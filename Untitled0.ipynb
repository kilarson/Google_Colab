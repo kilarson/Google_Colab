{
  "nbformat": 4,
  "nbformat_minor": 0,
  "metadata": {
    "colab": {
      "provenance": [],
      "mount_file_id": "1ezFvS9gdJ6XJGjQRWIY3RUlHB4OGMa-M",
      "authorship_tag": "ABX9TyMhOs7olLwm7Fp74YwHzG8z",
      "include_colab_link": true
    },
    "kernelspec": {
      "name": "python3",
      "display_name": "Python 3"
    },
    "language_info": {
      "name": "python"
    }
  },
  "cells": [
    {
      "cell_type": "markdown",
      "metadata": {
        "id": "view-in-github",
        "colab_type": "text"
      },
      "source": [
        "<a href=\"https://colab.research.google.com/github/kilarson/Google_Colab/blob/main/Untitled0.ipynb\" target=\"_parent\"><img src=\"https://colab.research.google.com/assets/colab-badge.svg\" alt=\"Open In Colab\"/></a>"
      ]
    },
    {
      "cell_type": "code",
      "execution_count": 1,
      "metadata": {
        "colab": {
          "base_uri": "https://localhost:8080/"
        },
        "id": "laTRnSP3yWC_",
        "outputId": "d1582123-73fa-4a94-a1ee-11a088cda3b1"
      },
      "outputs": [
        {
          "output_type": "stream",
          "name": "stdout",
          "text": [
            "Mounted at /content/drive\n"
          ]
        }
      ],
      "source": [
        "from google.colab import drive\n",
        "drive.mount('/content/drive', force_remount=False)"
      ]
    },
    {
      "cell_type": "code",
      "source": [
        "# prompt: save a file to local computer\n",
        "\n",
        "import os\n",
        "\n",
        "# Get the file from Google Drive\n",
        "file_path = '/content/drive/My Drive/foo.txt'\n",
        "\n",
        "# Get the file name\n",
        "file_name = os.path.basename(file_path)\n",
        "\n",
        "# Download the file to the local computer\n",
        "with open(file_name, 'wb') as f:\n",
        "  with open(file_path, 'rb') as file:\n",
        "    f.write(file.read())\n",
        "\n",
        "# Print a success message\n",
        "print(f'File \"{file_name}\" downloaded to your local computer.')\n"
      ],
      "metadata": {
        "id": "3tl9Sgp_yeHJ"
      },
      "execution_count": null,
      "outputs": []
    }
  ]
}